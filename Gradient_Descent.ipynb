{
 "cells": [
  {
   "cell_type": "markdown",
   "metadata": {},
   "source": [
    "# Gradient Descent"
   ]
  },
  {
   "cell_type": "markdown",
   "metadata": {},
   "source": [
    "Zibulevsky [youtube](https://www.youtube.com/watch?v=pQvxxKkceRw)\n",
    "Karimi [pdf](http://localhost:8888/notebooks/Dropbox/Paper/1608.04636.pdf)"
   ]
  },
  {
   "cell_type": "markdown",
   "metadata": {},
   "source": [
    "# Gradient Descent or Steepest Descent"
   ]
  },
  {
   "cell_type": "markdown",
   "metadata": {},
   "source": [
    "- For $k=1,2,\\ldots$\n",
    "$$\\begin{array}{ccc}\n",
    "\\\\\n",
    "g_k&\\leftarrow&\\nabla f(x_k)\\\\\n",
    "x_{k+1}&\\leftarrow&x_k-t_kg_k\n",
    "\\end{array}$$\n",
    "\n",
    "- Your choice: $x_0$, $t_k$, stopping rule"
   ]
  },
  {
   "cell_type": "markdown",
   "metadata": {},
   "source": [
    "<div align=\"center\"><img src=\"img/Screen Shot 2018-03-21 at 오후 10.23.50.png\" width=\"50%\"></div>"
   ]
  },
  {
   "cell_type": "code",
   "execution_count": 10,
   "metadata": {},
   "outputs": [
    {
     "data": {
      "image/png": "[encoded data removed]",
      "text/plain": [
       "<Figure size 432x288 with 1 Axes>"
      ]
     },
     "metadata": {
      "needs_background": "light"
     },
     "output_type": "display_data"
    }
   ],
   "source": [
    "import numpy as np\n",
    "import matplotlib.pyplot as plt\n",
    "\n",
    "\n",
    "def f(x):\n",
    "    return x ** 2\n",
    "\n",
    "\n",
    "def gradient(x):\n",
    "    return 2 * x\n",
    "\n",
    "\n",
    "def grdient_descent(x0=1, lr=0.1, epoch=10):\n",
    "    history_x = [x0]\n",
    "    history_y = [f(x0)]\n",
    "    for i in range(epoch):\n",
    "        x0 -= lr * gradient(x0)\n",
    "        history_x.append(x0)\n",
    "        history_y.append(f(x0))\n",
    "    return history_x, history_y\n",
    "\n",
    "\n",
    "def plot_grdient_descent(history_x, history_y):\n",
    "    x_max = np.max(np.abs(history_x))\n",
    "    x_plot = np.linspace(-x_max, x_max)  \n",
    "    y_plot = f(x_plot)\n",
    "    plt.plot(x_plot, y_plot, '--b')\n",
    "    plt.plot(history_x, history_y, 'o-b')\n",
    "    plt.plot(history_x[0], history_y[0], 'o-r')\n",
    "    plt.show()\n",
    "\n",
    "\n",
    "if __name__ == '__main__':\n",
    "    x0 = 1\n",
    "    lr = 0.2\n",
    "    epoch = 10\n",
    "\n",
    "    history_x, history_y = grdient_descent(x0=x0, lr=lr, epoch=epoch)\n",
    "    plot_grdient_descent(history_x, history_y) "
   ]
  },
  {
   "cell_type": "code",
   "execution_count": null,
   "metadata": {
    "collapsed": true
   },
   "outputs": [],
   "source": []
  }
 ],
 "metadata": {
  "kernelspec": {
   "display_name": "Python 3",
   "language": "python",
   "name": "python3"
  },
  "language_info": {
   "codemirror_mode": {
    "name": "ipython",
    "version": 3
   },
   "file_extension": ".py",
   "mimetype": "text/x-python",
   "name": "python",
   "nbconvert_exporter": "python",
   "pygments_lexer": "ipython3",
   "version": "3.5.0"
  }
 },
 "nbformat": 4,
 "nbformat_minor": 2
}
