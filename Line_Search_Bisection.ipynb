{
 "cells": [
  {
   "cell_type": "markdown",
   "metadata": {},
   "source": [
    "# Line_Search_Bisection "
   ]
  },
  {
   "cell_type": "markdown",
   "metadata": {
    "collapsed": true
   },
   "source": [
    "Zibulevsky [youtube](https://www.youtube.com/watch?v=Ea83eU5zAj8)"
   ]
  },
  {
   "cell_type": "code",
   "execution_count": 8,
   "metadata": {},
   "outputs": [
    {
     "data": {
      "image/png": "[encoded data removed]",
      "text/plain": [
       "<Figure size 432x288 with 2 Axes>"
      ]
     },
     "metadata": {
      "needs_background": "light"
     },
     "output_type": "display_data"
    }
   ],
   "source": [
    "import numpy as np\n",
    "import matplotlib.pyplot as plt\n",
    "\n",
    "def f(x):\n",
    "    return x**4 - 3*x**3 + x**2 - x\n",
    "\n",
    "def f_prime(x):\n",
    "    return 4*x**3 - 9*x**2 + 2*x - 1\n",
    "\n",
    "def bisection(a, b, tol):\n",
    "    \"\"\" \n",
    "    find min point of the original function f using its derivative f_prime\n",
    "    \n",
    "    Input\n",
    "        a : left end of the interval where min point is \n",
    "        b : right end of the interval where min point is\n",
    "        tol : we stop iteration if (b-a) <= tol or if np.abs(f_prime(c)) < tol\n",
    "        (f : function of interest)\n",
    "        (f_prime : derivative of f, function of interest)\n",
    "        \n",
    "    Output\n",
    "        c : center of the interval where min point is\n",
    "        np.array(history_c) : record of c during bisection iteration  \n",
    "    \"\"\"\n",
    "    \n",
    "    if (f_prime(a) > 0):\n",
    "        # if a violates V-combination condition, print error message \n",
    "        print(\"Your initial choice of a is bad\")\n",
    "    elif (f_prime(b) < 0):\n",
    "        # if b violates V-combination condition, print error message \n",
    "        print(\"Your initial choice of b is bad\")\n",
    "    else:\n",
    "        # if a and b form V-combination, iterate bisection algorithm\n",
    "        \n",
    "        c = (a+b)/2.\n",
    "        history_c = [c]\n",
    "        \n",
    "        while (b-a) > tol:\n",
    "            if np.abs(f_prime(c)) < tol:\n",
    "                return c, np.array(history_c)\n",
    "            elif f_prime(a)*f_prime(c) < 0:\n",
    "                b = c\n",
    "            else:\n",
    "                a = c\n",
    "            c = (a+b)/2.0\n",
    "            history_c.append(c)\n",
    "            \n",
    "        return c, np.array(history_c)\n",
    "\n",
    "    \n",
    "def plot_bisection(a, b, c, history_c):\n",
    "    \"\"\" \n",
    "    plot how bisection algorithm find min point of the original function f \n",
    "    \n",
    "    Input\n",
    "        a : left end of the interval where min point is \n",
    "        b : right end of the interval where min point is\n",
    "        c : center of the interval where min point is\n",
    "        history_c : record of c during bisection iteration\n",
    "        (f : function of interest)\n",
    "        (f_prime : derivative of f, function of interest)\n",
    "    \"\"\"\n",
    "    \n",
    "    x = np.linspace(a, b)\n",
    "    \n",
    "    # plot how bisection algorithm find min point of the original function f\n",
    "    # using f\n",
    "    plt.subplot(2,1,1)\n",
    "    plt.plot(x, f(x), '--b')\n",
    "    plt.plot(history_c, f(history_c), 'ob')\n",
    "    plt.plot(c, f(c), 'or')\n",
    "    plt.xlim(x.min()*0.9, x.max()*1.1)\n",
    "    \n",
    "    # plot how bisection algorithm find min point of the original function f\n",
    "    # using f'\n",
    "    plt.subplot(2,1,2)\n",
    "    plt.plot(x, f_prime(x), '--b')\n",
    "    plt.plot(history_c, f_prime(history_c), 'ob')\n",
    "    plt.plot(c, f_prime(c), 'or')\n",
    "    plt.xlim(x.min()*0.9, x.max()*1.1)\n",
    "    plt.axhline(y=0, color='k')\n",
    "    plt.axvline(x=0, color='k')\n",
    "    \n",
    "    plt.show()\n",
    "\n",
    "\n",
    "if __name__ == \"__main__\":\n",
    "    a = 1.\n",
    "    b = 3.\n",
    "    tol = 1e-6\n",
    "    \n",
    "    try:\n",
    "        c, history_c = bisection(a,b,tol)\n",
    "        plot_bisection(a,b,c,history_c)\n",
    "    except:\n",
    "        pass"
   ]
  },
  {
   "cell_type": "code",
   "execution_count": 9,
   "metadata": {},
   "outputs": [],
   "source": [
    "bisection?"
   ]
  },
  {
   "cell_type": "code",
   "execution_count": 10,
   "metadata": {},
   "outputs": [
    {
     "name": "stdout",
     "output_type": "stream",
     "text": [
      "Help on function bisection in module __main__:\n",
      "\n",
      "bisection(a, b, tol)\n",
      "    find min point of the original function f using its derivative f_prime\n",
      "    \n",
      "    Input\n",
      "        a : left end of the interval where min point is \n",
      "        b : right end of the interval where min point is\n",
      "        tol : we stop iteration if (b-a) <= tol or if np.abs(f_prime(c)) < tol\n",
      "        (f : function of interest)\n",
      "        (f_prime : derivative of f, function of interest)\n",
      "        \n",
      "    Output\n",
      "        c : center of the interval where min point is\n",
      "        np.array(history_c) : record of c during bisection iteration\n",
      "\n"
     ]
    }
   ],
   "source": [
    "help(bisection)"
   ]
  },
  {
   "cell_type": "code",
   "execution_count": 11,
   "metadata": {},
   "outputs": [],
   "source": [
    "plot_bisection?"
   ]
  },
  {
   "cell_type": "code",
   "execution_count": 12,
   "metadata": {},
   "outputs": [
    {
     "name": "stdout",
     "output_type": "stream",
     "text": [
      "Help on function plot_bisection in module __main__:\n",
      "\n",
      "plot_bisection(a, b, c, history_c)\n",
      "    plot how bisection algorithm find min point of the original function f \n",
      "    \n",
      "    Input\n",
      "        a : left end of the interval where min point is \n",
      "        b : right end of the interval where min point is\n",
      "        c : center of the interval where min point is\n",
      "        history_c : record of c during bisection iteration\n",
      "        (f : function of interest)\n",
      "        (f_prime : derivative of f, function of interest)\n",
      "\n"
     ]
    }
   ],
   "source": [
    "help(plot_bisection)"
   ]
  },
  {
   "cell_type": "code",
   "execution_count": null,
   "metadata": {},
   "outputs": [],
   "source": []
  }
 ],
 "metadata": {
  "kernelspec": {
   "display_name": "Python 3",
   "language": "python",
   "name": "python3"
  },
  "language_info": {
   "codemirror_mode": {
    "name": "ipython",
    "version": 3
   },
   "file_extension": ".py",
   "mimetype": "text/x-python",
   "name": "python",
   "nbconvert_exporter": "python",
   "pygments_lexer": "ipython3",
   "version": "3.5.0"
  }
 },
 "nbformat": 4,
 "nbformat_minor": 2
}
