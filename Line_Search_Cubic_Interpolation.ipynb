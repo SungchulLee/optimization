{
 "cells": [
  {
   "cell_type": "markdown",
   "metadata": {},
   "source": [
    "# Line_Search_Cubic_Interpolation"
   ]
  },
  {
   "cell_type": "markdown",
   "metadata": {
    "collapsed": true
   },
   "source": [
    "Zibulevsky [youtube](https://www.youtube.com/watch?v=W-Rcs26oFMM)"
   ]
  },
  {
   "cell_type": "code",
   "execution_count": 9,
   "metadata": {},
   "outputs": [
    {
     "data": {
      "image/png": "[encoded data removed]",
      "text/plain": [
       "<Figure size 432x288 with 1 Axes>"
      ]
     },
     "metadata": {
      "needs_background": "light"
     },
     "output_type": "display_data"
    }
   ],
   "source": [
    "import numpy as np\n",
    "import matplotlib.pyplot as plt\n",
    "\n",
    "def f(x):\n",
    "    return (x+7) * (x+1) * (x-4) * (x-5)\n",
    "\n",
    "def f_prime(x):\n",
    "    return (x+1)*(x-4)*(x-5)+(x+7)*(x-4)*(x-5)+(x+7)*(x+1)*(x-5)+(x+7)*(x+1)*(x-4)\n",
    "\n",
    "\n",
    "def cubic_interpolation_poly_g(a, b, f_and_f_prime_vals_as_list):\n",
    "    # a : left end of the interval where min point is\n",
    "    # b : right end of the interval where min point is\n",
    "    # f_and_f_prime_vals_as_list = [f(a), f(b), f_prime(a), f_prime(b)] \n",
    "    \n",
    "    # when this function is called\n",
    "    # a and b satisfy V-combination condition\n",
    "    # guaranteeing there is a unique quadratic interpolation polynomial g\n",
    "    \n",
    "    A = np.array([[a**3, a**2, a, 1.],\n",
    "                  [b**3, b**2, b, 1.],\n",
    "                  [3*a**2, 2*a, 1., 0.],\n",
    "                  [3*b**2, 2*b, 1., 0.]])\n",
    "    d = np.array(f_and_f_prime_vals_as_list).reshape((-1,1))\n",
    "    \n",
    "    # return values: np.array([[cubic_coeff], [quad_coeff], [linear_coeff], [intercept]])\n",
    "    return np.dot(np.linalg.inv(A), d)\n",
    "\n",
    "def find_roots_of_g_prime(g_coeff):\n",
    "    # g_coeff : coefficients of cubic polynomial g\n",
    "    #           np.array([[cubic_coeff], [quad_coeff], [linear_coeff], [intercept]])\n",
    "    \n",
    "    # find root of g_prime and return\n",
    "    a, b, c = 3*g_coeff[0,0], 2*g_coeff[1,0], g_coeff[2,0]\n",
    "    det = b**2 - 4*a*c\n",
    "    first_candidate = (-b + np.sqrt(det)) / (2*a)\n",
    "    second_candidate = (-b - np.sqrt(det)) / (2*a)\n",
    "    return first_candidate, second_candidate  \n",
    "\n",
    "def cubic_interpolation(a, b, tol):\n",
    "    \n",
    "    # check V-combination condition\n",
    "    if (f_prime(a) >= 0) or (f_prime(b) <= 0):\n",
    "        raise ValueError(\"Your initial choice of a and b is bad\")\n",
    "        \n",
    "    history_a = [a]\n",
    "    history_b = [b]\n",
    "    while b-a > tol:\n",
    "        \n",
    "        g_coeff = cubic_interpolation_poly_g(a, b, [f(a), f(b), f_prime(a), f_prime(b)])\n",
    "        first_candidate, second_candidate = find_roots_of_g_prime(g_coeff) \n",
    "        \n",
    "        # identify the root of g' in [a,b]\n",
    "        if (a < first_candidate) and (first_candidate < b):\n",
    "            candidate = first_candidate\n",
    "        else:\n",
    "            candidate = second_candidate\n",
    "            \n",
    "        if np.abs(f_prime(a)) < tol:\n",
    "            sol = a\n",
    "            return sol, np.array(history_a), np.array(history_b)\n",
    "        if np.abs(f_prime(b)) < tol:\n",
    "            sol = b\n",
    "            return sol, np.array(history_a), np.array(history_b)\n",
    "        if np.abs(f_prime(candidate)) < tol:\n",
    "            sol = candidate\n",
    "            return sol, history_a, history_b\n",
    "            \n",
    "        if f_prime(candidate) > 0:\n",
    "            b = candidate\n",
    "        else:\n",
    "            a = candidate\n",
    "        history_a.append(a)\n",
    "        history_b.append(a)\n",
    "    \n",
    "    sol = (a+b)/2\n",
    "    return sol, np.array(history_a), np.array(history_b)\n",
    "\n",
    "\n",
    "def plot_cubic_interpolation(sol, history_a, history_b):\n",
    "    a = history_a[0]\n",
    "    b = history_b[0] \n",
    "    x = np.linspace(a, b)\n",
    "    plt.plot(x, f(x), '--b')\n",
    "    plt.plot(history_a, f(np.array(history_a)), 'ob')\n",
    "    plt.plot(history_b, f(np.array(history_b)), 'ob')\n",
    "    plt.plot(sol, f(sol), 'or')\n",
    "    plt.show()\n",
    "\n",
    "\n",
    "if __name__ == \"__main__\":\n",
    "    a = -8.\n",
    "    b = 8.\n",
    "    tol = 1e-6\n",
    "    \n",
    "    sol, history_a, history_b = cubic_interpolation(a, b, tol)\n",
    "    plot_cubic_interpolation(sol, history_a, history_b)"
   ]
  },
  {
   "cell_type": "code",
   "execution_count": null,
   "metadata": {},
   "outputs": [],
   "source": []
  }
 ],
 "metadata": {
  "kernelspec": {
   "display_name": "Python 3",
   "language": "python",
   "name": "python3"
  },
  "language_info": {
   "codemirror_mode": {
    "name": "ipython",
    "version": 3
   },
   "file_extension": ".py",
   "mimetype": "text/x-python",
   "name": "python",
   "nbconvert_exporter": "python",
   "pygments_lexer": "ipython3",
   "version": "3.5.0"
  }
 },
 "nbformat": 4,
 "nbformat_minor": 2
}
