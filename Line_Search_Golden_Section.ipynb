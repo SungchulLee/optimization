{
 "cells": [
  {
   "cell_type": "markdown",
   "metadata": {},
   "source": [
    "# Line_Search_Golden_Section"
   ]
  },
  {
   "cell_type": "markdown",
   "metadata": {},
   "source": [
    "- Bisection Method: Use $f'$\n",
    "- Golden Section Method: Use $f$"
   ]
  },
  {
   "cell_type": "markdown",
   "metadata": {},
   "source": [
    "Zibulevsky [youtube](https://www.youtube.com/watch?v=fhwYiLCihz0)"
   ]
  },
  {
   "cell_type": "code",
   "execution_count": 11,
   "metadata": {},
   "outputs": [
    {
     "data": {
      "image/png": "[encoded data removed]",
      "text/plain": [
       "<Figure size 432x288 with 1 Axes>"
      ]
     },
     "metadata": {
      "needs_background": "light"
     },
     "output_type": "display_data"
    },
    {
     "name": "stdout",
     "output_type": "stream",
     "text": [
      "-4.879630969750387\n"
     ]
    }
   ],
   "source": [
    "import numpy as np\n",
    "import matplotlib.pyplot as plt\n",
    "\n",
    "def f(x):\n",
    "    return (x+7) * (x+1) * (x-4) * (x-5)\n",
    "\n",
    "def golden_section(a, d, tol):\n",
    "    \"\"\"\n",
    "    find min point of the original function f without using its derivative f_prime\n",
    "    \n",
    "    Input\n",
    "        a : left end of the interval where min point is \n",
    "        d : right end of the interval where min point is\n",
    "        tol : we stop iteration if (d-a) <= tol\n",
    "        (f : function of interest)\n",
    "        # (f_prime : derivative of f, function of interest) NOT USED in golden_section\n",
    "        \n",
    "    Output\n",
    "        sol : center of the interval where min point is\n",
    "        np.array(history_a) : record of a during bisection iteration \n",
    "        np.array(history_d) : record of d during bisection iteration \n",
    "    \"\"\"\n",
    "   \n",
    "    tau = (3 - np.sqrt(5))/2\n",
    "    \n",
    "    # a and d are the current bounds of the minimum (guaranteed by V-combination)\n",
    "    # b is the center pointer pushed slightly left towards a\n",
    "    # c is the center pointer pushed slightly right towards a\n",
    "    # a < b < c < d\n",
    "    b = a + tau*(d-a)\n",
    "    c = d - tau*(d-a)\n",
    "    history_a = [a]\n",
    "    history_d = [d]\n",
    "    \n",
    "    if (f(a) <= min([f(b),f(c)])) or (f(d) <= min([f(b),f(c)])):\n",
    "        # if a or d violates V-combination condition, print error message \n",
    "        print(\"Your initial choice of a or d is bad\")\n",
    "    else:\n",
    "        # if a and d form V-combination, iterate golden section algorithm\n",
    "    \n",
    "        while abs(a - d) > tol:\n",
    "            if f(b) < f(c): \n",
    "                # update the interval from [a,d] to [a,c]\n",
    "                # NOT THIS WAY: d, c, b = c, b, a + tau*(d-a)\n",
    "                d = c\n",
    "                c = b\n",
    "                b = a + tau*(d-a)\n",
    "            else:           \n",
    "                # update the interval from [a,d] to [b,d]\n",
    "                # NOT THIS WAY: a, b, c = b, c, d - tau*(d-a)\n",
    "                a = b\n",
    "                b = c\n",
    "                c = d - tau*(d-a) \n",
    "            history_a.append(a)\n",
    "            history_d.append(d)\n",
    "\n",
    "        sol = (a + d)/2\n",
    "        return sol, np.array(history_a), np.array(history_d)\n",
    "\n",
    "def plot_golden_section(sol, history_a, history_d):\n",
    "    a = history_a[0]\n",
    "    d = history_d[0] \n",
    "    x = np.linspace(a, d)\n",
    "    plt.plot(x, f(x), '--b')\n",
    "    plt.plot(history_a, f(np.array(history_a)), 'ob')\n",
    "    plt.plot(history_d, f(np.array(history_d)), 'ob')\n",
    "    plt.plot(sol, f(sol), 'o-r')\n",
    "    plt.show()\n",
    "\n",
    "if __name__ == \"__main__\":\n",
    "    a = -8.\n",
    "    d = 8.\n",
    "    tol = 1e-3\n",
    "    \n",
    "    sol, history_a, history_d = golden_section(a, d, tol)\n",
    "    plot_golden_section(sol, history_a, history_d)\n",
    "    print(sol)"
   ]
  },
  {
   "cell_type": "code",
   "execution_count": 12,
   "metadata": {},
   "outputs": [
    {
     "name": "stdout",
     "output_type": "stream",
     "text": [
      "0.5 1.0 2.0\n"
     ]
    }
   ],
   "source": [
    "a = 1.\n",
    "b = 2.\n",
    "c = 3.\n",
    "\n",
    "a, b, c = a/2, b-a, c-a \n",
    "print(a, b, c)"
   ]
  },
  {
   "cell_type": "code",
   "execution_count": 13,
   "metadata": {},
   "outputs": [
    {
     "name": "stdout",
     "output_type": "stream",
     "text": [
      "0.5 1.5 2.5\n"
     ]
    }
   ],
   "source": [
    "a = 1.\n",
    "b = 2.\n",
    "c = 3.\n",
    "\n",
    "a = a/2\n",
    "b = b-a\n",
    "c = c-a \n",
    "print(a, b, c)"
   ]
  },
  {
   "cell_type": "code",
   "execution_count": null,
   "metadata": {},
   "outputs": [],
   "source": []
  }
 ],
 "metadata": {
  "kernelspec": {
   "display_name": "Python 3",
   "language": "python",
   "name": "python3"
  },
  "language_info": {
   "codemirror_mode": {
    "name": "ipython",
    "version": 3
   },
   "file_extension": ".py",
   "mimetype": "text/x-python",
   "name": "python",
   "nbconvert_exporter": "python",
   "pygments_lexer": "ipython3",
   "version": "3.5.0"
  }
 },
 "nbformat": 4,
 "nbformat_minor": 2
}
