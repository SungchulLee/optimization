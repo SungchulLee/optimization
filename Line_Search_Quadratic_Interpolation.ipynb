{
 "cells": [
  {
   "cell_type": "markdown",
   "metadata": {
    "collapsed": true
   },
   "source": [
    "# Line_Search_Quadratic_Interpolation"
   ]
  },
  {
   "cell_type": "markdown",
   "metadata": {},
   "source": [
    "Zibulevsky [youtube](https://www.youtube.com/watch?v=9Zejl2YzaYY)"
   ]
  },
  {
   "cell_type": "code",
   "execution_count": 6,
   "metadata": {},
   "outputs": [
    {
     "data": {
      "image/png": "[encoded data removed]",
      "text/plain": [
       "<Figure size 432x288 with 1 Axes>"
      ]
     },
     "metadata": {
      "needs_background": "light"
     },
     "output_type": "display_data"
    }
   ],
   "source": [
    "import numpy as np\n",
    "import matplotlib.pyplot as plt\n",
    "\n",
    "def f(x):\n",
    "    return (x+7) * (x+1) * (x-4) * (x-5)\n",
    "\n",
    "def quad_interpolation_poly_g(a, b, c, function_vals_as_list):\n",
    "    # a: point where we know function value, a < b < c\n",
    "    # b: point where we know function value, a < b < c\n",
    "    # c: point where we know function value, a < b < c\n",
    "    # function_vals_as_list = [f(a), f(b), f(c)] \n",
    "    \n",
    "    # when this function is called\n",
    "    # a, b, and c satisfy V-combination condition\n",
    "    # guaranteeing there is a unique quadratic interpolation polynomial g\n",
    "    \n",
    "    A = np.array([[a**2, a, 1],\n",
    "                  [b**2, b, 1],\n",
    "                  [c**2, c, 1]])\n",
    "    d = np.array(function_vals_as_list).reshape((-1,1))\n",
    "    \n",
    "    # return values: np.array([[quadratic_coeff], [linear_coeff], [intercept]])\n",
    "    return np.dot(np.linalg.inv(A), d)\n",
    "\n",
    "def find_root_of_g_prime(g_coeff):\n",
    "    # g_coeff : coefficients of quadratic polynomial g\n",
    "    #           np.array([[quadratic_coeff], [linear_coeff], [intercept]])\n",
    "    \n",
    "    # find root of g_prime and return\n",
    "    alpha, beta = g_coeff[0,0], g_coeff[1,0]\n",
    "    return - beta / (2*alpha) \n",
    "\n",
    "def quadratic_interpolation(a, b, c, tol):\n",
    "    # a: a<b<c with V-combination, i.e., f(b) < f(a) and f(b) < f(c)\n",
    "    # b: a<b<c with V-combination, i.e., f(b) < f(a) and f(b) < f(c)\n",
    "    # c: a<b<c with V-combination, i.e., f(b) < f(a) and f(b) < f(c)\n",
    "    \n",
    "    # check V-combination condition\n",
    "    if (f(a) <= f(b)) or (f(c) <= f(b)):\n",
    "        raise ValueError(\"Your initial choice of a, b, c is bad, not V-combination\")\n",
    "    \n",
    "    history_a = [a]\n",
    "    history_c = [c]\n",
    "    while c-a > tol:\n",
    "        g_coeff = quad_interpolation_poly_g(a, b, c, \\\n",
    "                                            function_vals_as_list=[f(a), f(b), f(c)])\n",
    "        root = find_root_of_g_prime(g_coeff)\n",
    "        \n",
    "        # if the root of g' is in [a,b] \n",
    "        if (a<root) and (root<b):\n",
    "            # if a, root, b satisfy V-combination condition \n",
    "            if (f(a)>f(root)) and (f(root)<f(b)): \n",
    "                b, c = root, b\n",
    "            else:\n",
    "                a = root\n",
    "        # if the root of g' is in [b,c]\n",
    "        else:\n",
    "            # if b, root, c satisfy V-combination condition \n",
    "            if (f(b)>f(root)) and (f(root)<f(c)):\n",
    "                a, b = b, root\n",
    "            else:\n",
    "                c = root\n",
    "\n",
    "        history_a.append(a)\n",
    "        history_c.append(c)\n",
    "        \n",
    "    sol = (a+c)/2       \n",
    "    return sol, np.array(history_a), np.array(history_c)\n",
    "\n",
    "def plot_quadratic_interpolation(sol, history_a, history_c):\n",
    "    a = history_a[0]\n",
    "    d = history_c[0] \n",
    "    x = np.linspace(a, c)\n",
    "    plt.plot(x, f(x), '--b')\n",
    "    plt.plot(history_a, f(np.array(history_a)), 'ob')\n",
    "    plt.plot(history_c, f(np.array(history_c)), 'ob')\n",
    "    plt.plot(sol, f(sol), 'o-r')\n",
    "    plt.show()\n",
    "\n",
    "\n",
    "if __name__ == \"__main__\":\n",
    "    a = -8.\n",
    "    b = 0.\n",
    "    c = 8.\n",
    "    tol = 1e-6\n",
    "    \n",
    "    sol, history_a, history_c = quadratic_interpolation(a, b, c, tol)\n",
    "    plot_quadratic_interpolation(sol, history_a, history_c)"
   ]
  },
  {
   "cell_type": "code",
   "execution_count": null,
   "metadata": {},
   "outputs": [],
   "source": []
  }
 ],
 "metadata": {
  "kernelspec": {
   "display_name": "Python 3",
   "language": "python",
   "name": "python3"
  },
  "language_info": {
   "codemirror_mode": {
    "name": "ipython",
    "version": 3
   },
   "file_extension": ".py",
   "mimetype": "text/x-python",
   "name": "python",
   "nbconvert_exporter": "python",
   "pygments_lexer": "ipython3",
   "version": "3.5.0"
  }
 },
 "nbformat": 4,
 "nbformat_minor": 2
}
